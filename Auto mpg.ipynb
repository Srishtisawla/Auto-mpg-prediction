{
 "cells": [
  {
   "cell_type": "code",
   "execution_count": 56,
   "metadata": {
    "collapsed": true
   },
   "outputs": [],
   "source": [
    "path = 'data.csv'"
   ]
  },
  {
   "cell_type": "code",
   "execution_count": 70,
   "metadata": {
    "collapsed": true
   },
   "outputs": [],
   "source": [
    "import pandas as pd\n",
    "import numpy as np\n",
    "from matplotlib import pyplot as plt\n",
    "import seaborn as sns\n",
    "from sklearn.linear_model import Lasso,Ridge,LinearRegression\n",
    "from sklearn.model_selection import train_test_split\n",
    "from sklearn.preprocessing import LabelEncoder,MinMaxScaler\n",
    "from sklearn.metrics import mean_squared_error"
   ]
  },
  {
   "cell_type": "code",
   "execution_count": 58,
   "metadata": {},
   "outputs": [
    {
     "name": "stdout",
     "output_type": "stream",
     "text": [
      "<class 'pandas.core.frame.DataFrame'>\n",
      "RangeIndex: 398 entries, 0 to 397\n",
      "Data columns (total 9 columns):\n",
      "mpg             398 non-null float64\n",
      "cylinders       398 non-null int64\n",
      "displacement    398 non-null float64\n",
      "horsepower      398 non-null object\n",
      "weight          398 non-null int64\n",
      "acceleration    398 non-null float64\n",
      "model_year      398 non-null int64\n",
      "origin          398 non-null int64\n",
      "car_name        398 non-null object\n",
      "dtypes: float64(3), int64(4), object(2)\n",
      "memory usage: 28.1+ KB\n",
      "None\n"
     ]
    },
    {
     "data": {
      "text/html": [
       "<div>\n",
       "<style>\n",
       "    .dataframe thead tr:only-child th {\n",
       "        text-align: right;\n",
       "    }\n",
       "\n",
       "    .dataframe thead th {\n",
       "        text-align: left;\n",
       "    }\n",
       "\n",
       "    .dataframe tbody tr th {\n",
       "        vertical-align: top;\n",
       "    }\n",
       "</style>\n",
       "<table border=\"1\" class=\"dataframe\">\n",
       "  <thead>\n",
       "    <tr style=\"text-align: right;\">\n",
       "      <th></th>\n",
       "      <th>mpg</th>\n",
       "      <th>cylinders</th>\n",
       "      <th>displacement</th>\n",
       "      <th>horsepower</th>\n",
       "      <th>weight</th>\n",
       "      <th>acceleration</th>\n",
       "      <th>model_year</th>\n",
       "      <th>origin</th>\n",
       "      <th>car_name</th>\n",
       "    </tr>\n",
       "  </thead>\n",
       "  <tbody>\n",
       "    <tr>\n",
       "      <th>0</th>\n",
       "      <td>18.0</td>\n",
       "      <td>8</td>\n",
       "      <td>307.0</td>\n",
       "      <td>130</td>\n",
       "      <td>3504</td>\n",
       "      <td>12.0</td>\n",
       "      <td>70</td>\n",
       "      <td>1</td>\n",
       "      <td>chevroletchevellemalibu</td>\n",
       "    </tr>\n",
       "    <tr>\n",
       "      <th>1</th>\n",
       "      <td>15.0</td>\n",
       "      <td>8</td>\n",
       "      <td>350.0</td>\n",
       "      <td>165</td>\n",
       "      <td>3693</td>\n",
       "      <td>11.5</td>\n",
       "      <td>70</td>\n",
       "      <td>1</td>\n",
       "      <td>buickskylark320</td>\n",
       "    </tr>\n",
       "    <tr>\n",
       "      <th>2</th>\n",
       "      <td>18.0</td>\n",
       "      <td>8</td>\n",
       "      <td>318.0</td>\n",
       "      <td>150</td>\n",
       "      <td>3436</td>\n",
       "      <td>11.0</td>\n",
       "      <td>70</td>\n",
       "      <td>1</td>\n",
       "      <td>plymouthsatellite</td>\n",
       "    </tr>\n",
       "    <tr>\n",
       "      <th>3</th>\n",
       "      <td>16.0</td>\n",
       "      <td>8</td>\n",
       "      <td>304.0</td>\n",
       "      <td>150</td>\n",
       "      <td>3433</td>\n",
       "      <td>12.0</td>\n",
       "      <td>70</td>\n",
       "      <td>1</td>\n",
       "      <td>amcrebelsst</td>\n",
       "    </tr>\n",
       "    <tr>\n",
       "      <th>4</th>\n",
       "      <td>17.0</td>\n",
       "      <td>8</td>\n",
       "      <td>302.0</td>\n",
       "      <td>140</td>\n",
       "      <td>3449</td>\n",
       "      <td>10.5</td>\n",
       "      <td>70</td>\n",
       "      <td>1</td>\n",
       "      <td>fordtorino</td>\n",
       "    </tr>\n",
       "  </tbody>\n",
       "</table>\n",
       "</div>"
      ],
      "text/plain": [
       "    mpg  cylinders  displacement horsepower  weight  acceleration  model_year  \\\n",
       "0  18.0          8         307.0        130    3504          12.0          70   \n",
       "1  15.0          8         350.0        165    3693          11.5          70   \n",
       "2  18.0          8         318.0        150    3436          11.0          70   \n",
       "3  16.0          8         304.0        150    3433          12.0          70   \n",
       "4  17.0          8         302.0        140    3449          10.5          70   \n",
       "\n",
       "   origin                 car_name  \n",
       "0       1  chevroletchevellemalibu  \n",
       "1       1          buickskylark320  \n",
       "2       1        plymouthsatellite  \n",
       "3       1              amcrebelsst  \n",
       "4       1               fordtorino  "
      ]
     },
     "execution_count": 58,
     "metadata": {},
     "output_type": "execute_result"
    }
   ],
   "source": [
    "data = pd.read_csv(path)\n",
    "print data.info()\n",
    "data.head()"
   ]
  },
  {
   "cell_type": "code",
   "execution_count": 59,
   "metadata": {
    "collapsed": true
   },
   "outputs": [],
   "source": [
    "#dealing with missing values\n",
    "data = data[data['horsepower']!='?']\n",
    "data['horsepower'] = data['horsepower'].astype('float64')"
   ]
  },
  {
   "cell_type": "code",
   "execution_count": 60,
   "metadata": {
    "collapsed": true
   },
   "outputs": [],
   "source": [
    "train,test = train_test_split(data,random_state=9,test_size=0.2)"
   ]
  },
  {
   "cell_type": "code",
   "execution_count": 61,
   "metadata": {
    "collapsed": true
   },
   "outputs": [],
   "source": [
    "X_train = train.iloc[:,1:]\n",
    "y_train = train.iloc[:,0]\n",
    "X_test = test.iloc[:,1:]\n",
    "y_test = test.iloc[:,0]"
   ]
  },
  {
   "cell_type": "code",
   "execution_count": 62,
   "metadata": {},
   "outputs": [
    {
     "name": "stdout",
     "output_type": "stream",
     "text": [
      "<class 'pandas.core.frame.DataFrame'>\n",
      "Int64Index: 313 entries, 107 to 388\n",
      "Data columns (total 8 columns):\n",
      "cylinders       313 non-null int64\n",
      "displacement    313 non-null float64\n",
      "horsepower      313 non-null float64\n",
      "weight          313 non-null int64\n",
      "acceleration    313 non-null float64\n",
      "model_year      313 non-null int64\n",
      "origin          313 non-null int64\n",
      "car_name        313 non-null object\n",
      "dtypes: float64(3), int64(4), object(1)\n",
      "memory usage: 22.0+ KB\n",
      "None\n",
      "<class 'pandas.core.frame.DataFrame'>\n",
      "Int64Index: 79 entries, 290 to 54\n",
      "Data columns (total 8 columns):\n",
      "cylinders       79 non-null int64\n",
      "displacement    79 non-null float64\n",
      "horsepower      79 non-null float64\n",
      "weight          79 non-null int64\n",
      "acceleration    79 non-null float64\n",
      "model_year      79 non-null int64\n",
      "origin          79 non-null int64\n",
      "car_name        79 non-null object\n",
      "dtypes: float64(3), int64(4), object(1)\n",
      "memory usage: 5.6+ KB\n",
      "None\n"
     ]
    }
   ],
   "source": [
    "print X_train.info()\n",
    "print X_test.info()"
   ]
  },
  {
   "cell_type": "code",
   "execution_count": 63,
   "metadata": {},
   "outputs": [],
   "source": [
    "#categorical and numerical values\n",
    "numeric_feature_columns = list(X_train._get_numeric_data().columns)\n",
    "categorical_feature_columns = list(set(X_train.columns)-set(X_train._get_numeric_data().columns))\n",
    "for column in numeric_feature_columns:\n",
    "    if pd.unique(X_train[column]).shape[0] < np.sqrt(X_train.shape[0]):\n",
    "        categorical_feature_columns.append(column)\n",
    "        numeric_feature_columns.remove(column)"
   ]
  },
  {
   "cell_type": "code",
   "execution_count": 64,
   "metadata": {},
   "outputs": [
    {
     "name": "stdout",
     "output_type": "stream",
     "text": [
      "['displacement', 'horsepower', 'weight', 'acceleration']\n",
      "['car_name', 'cylinders', 'model_year', 'origin']\n"
     ]
    }
   ],
   "source": [
    "categorical_feature_columns.append('origin')\n",
    "numeric_feature_columns.remove('origin')\n",
    "print numeric_feature_columns\n",
    "print categorical_feature_columns"
   ]
  },
  {
   "cell_type": "code",
   "execution_count": 65,
   "metadata": {},
   "outputs": [
    {
     "data": {
      "text/plain": [
       "peugeot504                        4\n",
       "chevroletimpala                   4\n",
       "toyotacorolla                     4\n",
       "amcmatador                        4\n",
       "amchornet                         3\n",
       "fordpinto                         3\n",
       "toyotacorona                      3\n",
       "volkswagendasher                  3\n",
       "amcgremlin                        3\n",
       "fordmaverick                      3\n",
       "chevroletcitation                 3\n",
       "plymouthfuryiii                   3\n",
       "chevroletvega                     3\n",
       "pontiaccatalina                   3\n",
       "chevroletchevette                 3\n",
       "chevroletnova                     3\n",
       "fordgrantorino                    3\n",
       "dodgecolt                         2\n",
       "fiat128                           2\n",
       "fordltd                           2\n",
       "saab99le                          2\n",
       "chevroletmalibu                   2\n",
       "oldsmobilecutlasssalonbrougham    2\n",
       "plymouthreliant                   2\n",
       "buickskylark                      2\n",
       "audi100ls                         2\n",
       "fordgrantorino(sw)                2\n",
       "mazda626                          2\n",
       "hondacivic                        2\n",
       "subaru                            2\n",
       "                                 ..\n",
       "datsun510                         1\n",
       "datsunb-210                       1\n",
       "pontiacphoenixlj                  1\n",
       "chevroletcavalier2-door           1\n",
       "amcconcordd/l                     1\n",
       "buickcentury350                   1\n",
       "toyotacressida                    1\n",
       "plymouthhorizonmiser              1\n",
       "buickskylarklimited               1\n",
       "plymouthvolarecustom              1\n",
       "peugeot604sl                      1\n",
       "mercurymarquis                    1\n",
       "datsun210mpg                      1\n",
       "hondacivic(auto)                  1\n",
       "fiat131                           1\n",
       "volkswagentype3                   1\n",
       "chevroletcapriceclassic           1\n",
       "toyotacorollaliftback             1\n",
       "oldsmobileomega                   1\n",
       "volkswagenmodel111                1\n",
       "fordfutura                        1\n",
       "plymouthvolare                    1\n",
       "mazdarx-7gs                       1\n",
       "dodgemonacobrougham               1\n",
       "fordgranadal                      1\n",
       "fordmustanggl                     1\n",
       "amcspiritdl                       1\n",
       "fordgranadagl                     1\n",
       "dodgedartcustom                   1\n",
       "plymoutharrowgs                   1\n",
       "Name: car_name, Length: 248, dtype: int64"
      ]
     },
     "execution_count": 65,
     "metadata": {},
     "output_type": "execute_result"
    }
   ],
   "source": [
    "X_train['car_name'].value_counts()\n",
    "#one hot encoding cannot be done\n",
    "#label encoding can be done\n",
    "#since almost all the values are unique it serves as an id and can b dropped"
   ]
  },
  {
   "cell_type": "code",
   "execution_count": 66,
   "metadata": {},
   "outputs": [],
   "source": [
    "X_train = X_train.drop('car_name',axis=1)\n",
    "X_test = X_test.drop('car_name',axis=1)"
   ]
  },
  {
   "cell_type": "code",
   "execution_count": 67,
   "metadata": {},
   "outputs": [
    {
     "data": {
      "text/plain": [
       "11.027954778424236"
      ]
     },
     "execution_count": 67,
     "metadata": {},
     "output_type": "execute_result"
    }
   ],
   "source": [
    "#basic model\n",
    "linR = LinearRegression()\n",
    "linR.fit(X_train,y_train)\n",
    "y_pred = linR.predict(X_test)\n",
    "mean_squared_error(y_test, y_pred)"
   ]
  },
  {
   "cell_type": "code",
   "execution_count": 68,
   "metadata": {},
   "outputs": [
    {
     "data": {
      "text/plain": [
       "9.661824694190706"
      ]
     },
     "execution_count": 68,
     "metadata": {},
     "output_type": "execute_result"
    }
   ],
   "source": [
    "#using ridge\n",
    "rid = Ridge(alpha=1000)\n",
    "rid.fit(X_train,y_train)\n",
    "y_pred = rid.predict(X_test)\n",
    "mean_squared_error(y_test, y_pred)"
   ]
  },
  {
   "cell_type": "code",
   "execution_count": 69,
   "metadata": {},
   "outputs": [
    {
     "data": {
      "text/html": [
       "<div>\n",
       "<style>\n",
       "    .dataframe thead tr:only-child th {\n",
       "        text-align: right;\n",
       "    }\n",
       "\n",
       "    .dataframe thead th {\n",
       "        text-align: left;\n",
       "    }\n",
       "\n",
       "    .dataframe tbody tr th {\n",
       "        vertical-align: top;\n",
       "    }\n",
       "</style>\n",
       "<table border=\"1\" class=\"dataframe\">\n",
       "  <thead>\n",
       "    <tr style=\"text-align: right;\">\n",
       "      <th></th>\n",
       "      <th>mpg</th>\n",
       "      <th>cylinders</th>\n",
       "      <th>displacement</th>\n",
       "      <th>horsepower</th>\n",
       "      <th>weight</th>\n",
       "      <th>acceleration</th>\n",
       "      <th>model_year</th>\n",
       "      <th>origin</th>\n",
       "    </tr>\n",
       "  </thead>\n",
       "  <tbody>\n",
       "    <tr>\n",
       "      <th>mpg</th>\n",
       "      <td>1.000000</td>\n",
       "      <td>-0.767988</td>\n",
       "      <td>-0.795293</td>\n",
       "      <td>-0.776623</td>\n",
       "      <td>-0.821549</td>\n",
       "      <td>0.445445</td>\n",
       "      <td>0.606431</td>\n",
       "      <td>0.590513</td>\n",
       "    </tr>\n",
       "    <tr>\n",
       "      <th>cylinders</th>\n",
       "      <td>-0.767988</td>\n",
       "      <td>1.000000</td>\n",
       "      <td>0.951748</td>\n",
       "      <td>0.843675</td>\n",
       "      <td>0.895089</td>\n",
       "      <td>-0.523436</td>\n",
       "      <td>-0.355354</td>\n",
       "      <td>-0.580867</td>\n",
       "    </tr>\n",
       "    <tr>\n",
       "      <th>displacement</th>\n",
       "      <td>-0.795293</td>\n",
       "      <td>0.951748</td>\n",
       "      <td>1.000000</td>\n",
       "      <td>0.893572</td>\n",
       "      <td>0.934630</td>\n",
       "      <td>-0.556180</td>\n",
       "      <td>-0.390274</td>\n",
       "      <td>-0.623250</td>\n",
       "    </tr>\n",
       "    <tr>\n",
       "      <th>horsepower</th>\n",
       "      <td>-0.776623</td>\n",
       "      <td>0.843675</td>\n",
       "      <td>0.893572</td>\n",
       "      <td>1.000000</td>\n",
       "      <td>0.871373</td>\n",
       "      <td>-0.697825</td>\n",
       "      <td>-0.424324</td>\n",
       "      <td>-0.463201</td>\n",
       "    </tr>\n",
       "    <tr>\n",
       "      <th>weight</th>\n",
       "      <td>-0.821549</td>\n",
       "      <td>0.895089</td>\n",
       "      <td>0.934630</td>\n",
       "      <td>0.871373</td>\n",
       "      <td>1.000000</td>\n",
       "      <td>-0.430969</td>\n",
       "      <td>-0.334786</td>\n",
       "      <td>-0.588595</td>\n",
       "    </tr>\n",
       "    <tr>\n",
       "      <th>acceleration</th>\n",
       "      <td>0.445445</td>\n",
       "      <td>-0.523436</td>\n",
       "      <td>-0.556180</td>\n",
       "      <td>-0.697825</td>\n",
       "      <td>-0.430969</td>\n",
       "      <td>1.000000</td>\n",
       "      <td>0.291088</td>\n",
       "      <td>0.205201</td>\n",
       "    </tr>\n",
       "    <tr>\n",
       "      <th>model_year</th>\n",
       "      <td>0.606431</td>\n",
       "      <td>-0.355354</td>\n",
       "      <td>-0.390274</td>\n",
       "      <td>-0.424324</td>\n",
       "      <td>-0.334786</td>\n",
       "      <td>0.291088</td>\n",
       "      <td>1.000000</td>\n",
       "      <td>0.253654</td>\n",
       "    </tr>\n",
       "    <tr>\n",
       "      <th>origin</th>\n",
       "      <td>0.590513</td>\n",
       "      <td>-0.580867</td>\n",
       "      <td>-0.623250</td>\n",
       "      <td>-0.463201</td>\n",
       "      <td>-0.588595</td>\n",
       "      <td>0.205201</td>\n",
       "      <td>0.253654</td>\n",
       "      <td>1.000000</td>\n",
       "    </tr>\n",
       "  </tbody>\n",
       "</table>\n",
       "</div>"
      ],
      "text/plain": [
       "                   mpg  cylinders  displacement  horsepower    weight  \\\n",
       "mpg           1.000000  -0.767988     -0.795293   -0.776623 -0.821549   \n",
       "cylinders    -0.767988   1.000000      0.951748    0.843675  0.895089   \n",
       "displacement -0.795293   0.951748      1.000000    0.893572  0.934630   \n",
       "horsepower   -0.776623   0.843675      0.893572    1.000000  0.871373   \n",
       "weight       -0.821549   0.895089      0.934630    0.871373  1.000000   \n",
       "acceleration  0.445445  -0.523436     -0.556180   -0.697825 -0.430969   \n",
       "model_year    0.606431  -0.355354     -0.390274   -0.424324 -0.334786   \n",
       "origin        0.590513  -0.580867     -0.623250   -0.463201 -0.588595   \n",
       "\n",
       "              acceleration  model_year    origin  \n",
       "mpg               0.445445    0.606431  0.590513  \n",
       "cylinders        -0.523436   -0.355354 -0.580867  \n",
       "displacement     -0.556180   -0.390274 -0.623250  \n",
       "horsepower       -0.697825   -0.424324 -0.463201  \n",
       "weight           -0.430969   -0.334786 -0.588595  \n",
       "acceleration      1.000000    0.291088  0.205201  \n",
       "model_year        0.291088    1.000000  0.253654  \n",
       "origin            0.205201    0.253654  1.000000  "
      ]
     },
     "execution_count": 69,
     "metadata": {},
     "output_type": "execute_result"
    }
   ],
   "source": [
    "#correlation\n",
    "train.corr()\n",
    "# all columns are correlated with target variable (mpg)"
   ]
  },
  {
   "cell_type": "code",
   "execution_count": 73,
   "metadata": {},
   "outputs": [
    {
     "name": "stderr",
     "output_type": "stream",
     "text": [
      "/home/sr/anaconda2/lib/python2.7/site-packages/ipykernel_launcher.py:4: FutureWarning: reshape is deprecated and will raise in a subsequent release. Please use .values.reshape(...) instead\n",
      "  after removing the cwd from sys.path.\n",
      "/home/sr/anaconda2/lib/python2.7/site-packages/ipykernel_launcher.py:5: FutureWarning: reshape is deprecated and will raise in a subsequent release. Please use .values.reshape(...) instead\n",
      "  \"\"\"\n",
      "/home/sr/anaconda2/lib/python2.7/site-packages/ipykernel_launcher.py:6: FutureWarning: reshape is deprecated and will raise in a subsequent release. Please use .values.reshape(...) instead\n",
      "  \n",
      "/home/sr/anaconda2/lib/python2.7/site-packages/sklearn/utils/validation.py:475: DataConversionWarning: Data with input dtype int64 was converted to float64 by MinMaxScaler.\n",
      "  warnings.warn(msg, DataConversionWarning)\n"
     ]
    }
   ],
   "source": [
    "# Scaling values\n",
    "for val in numeric_feature_columns:\n",
    "    sca = MinMaxScaler()\n",
    "    sca.fit(X_train[val].reshape(-1,1))\n",
    "    X_train[val] = sca.transform(X_train[val].reshape(-1,1))\n",
    "    X_test[val] = sca.transform(X_test[val].reshape(-1,1))"
   ]
  },
  {
   "cell_type": "code",
   "execution_count": 74,
   "metadata": {},
   "outputs": [
    {
     "data": {
      "text/plain": [
       "25.687089119861362"
      ]
     },
     "execution_count": 74,
     "metadata": {},
     "output_type": "execute_result"
    }
   ],
   "source": [
    "#using ridge\n",
    "# Thus scaling not required\n",
    "rid = Ridge(alpha=1000)\n",
    "rid.fit(X_train,y_train)\n",
    "y_pred = rid.predict(X_test)\n",
    "mean_squared_error(y_test, y_pred)"
   ]
  },
  {
   "cell_type": "markdown",
   "metadata": {},
   "source": [
    "Not much could be done with this dataset,still got a very low mean_Square_error of 9.66 using Ridge regul"
   ]
  }
 ],
 "metadata": {
  "kernelspec": {
   "display_name": "Python 2",
   "language": "python",
   "name": "python2"
  },
  "language_info": {
   "codemirror_mode": {
    "name": "ipython",
    "version": 2
   },
   "file_extension": ".py",
   "mimetype": "text/x-python",
   "name": "python",
   "nbconvert_exporter": "python",
   "pygments_lexer": "ipython2",
   "version": "2.7.14"
  }
 },
 "nbformat": 4,
 "nbformat_minor": 2
}
